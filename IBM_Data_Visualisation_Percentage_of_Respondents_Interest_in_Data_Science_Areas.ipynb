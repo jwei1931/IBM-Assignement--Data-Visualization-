{
  "nbformat": 4,
  "nbformat_minor": 0,
  "metadata": {
    "colab": {
      "name": "IBM Data Visualisation: Percentage of Respondents Interest in Data Science Areas",
      "provenance": [],
      "collapsed_sections": [],
      "authorship_tag": "ABX9TyMRD3io/c2TJkhjJkj2LLEO",
      "include_colab_link": true
    },
    "kernelspec": {
      "name": "python3",
      "display_name": "Python 3"
    }
  },
  "cells": [
    {
      "cell_type": "markdown",
      "metadata": {
        "id": "view-in-github",
        "colab_type": "text"
      },
      "source": [
        "<a href=\"https://colab.research.google.com/github/jwei1931/IBM-Assignement--Data-Visualization-/blob/main/IBM_Data_Visualisation_Percentage_of_Respondents_Interest_in_Data_Science_Areas.ipynb\" target=\"_parent\"><img src=\"https://colab.research.google.com/assets/colab-badge.svg\" alt=\"Open In Colab\"/></a>"
      ]
    },
    {
      "cell_type": "code",
      "metadata": {
        "id": "mdmWOTO4Wgx5"
      },
      "source": [
        "import numpy as np\n",
        "import pandas as pd\n",
        "import matplotlib.pyplot as plt\n",
        "import seaborn as sns "
      ],
      "execution_count": null,
      "outputs": []
    },
    {
      "cell_type": "code",
      "metadata": {
        "id": "8Ia9qI-ZXHTT",
        "outputId": "c6fd7e33-d9bb-4445-b9a2-c9ab538ceba1",
        "colab": {
          "base_uri": "https://localhost:8080/",
          "height": 195
        }
      },
      "source": [
        "# Read csv\n",
        "df = pd.read_csv('Topic_Survey_Assignment.csv', index_col=0)\n",
        "df.head()"
      ],
      "execution_count": null,
      "outputs": [
        {
          "output_type": "execute_result",
          "data": {
            "text/html": [
              "<div>\n",
              "<style scoped>\n",
              "    .dataframe tbody tr th:only-of-type {\n",
              "        vertical-align: middle;\n",
              "    }\n",
              "\n",
              "    .dataframe tbody tr th {\n",
              "        vertical-align: top;\n",
              "    }\n",
              "\n",
              "    .dataframe thead th {\n",
              "        text-align: right;\n",
              "    }\n",
              "</style>\n",
              "<table border=\"1\" class=\"dataframe\">\n",
              "  <thead>\n",
              "    <tr style=\"text-align: right;\">\n",
              "      <th></th>\n",
              "      <th>Very interested</th>\n",
              "      <th>Somewhat interested</th>\n",
              "      <th>Not interested</th>\n",
              "    </tr>\n",
              "  </thead>\n",
              "  <tbody>\n",
              "    <tr>\n",
              "      <th>Big Data (Spark / Hadoop)</th>\n",
              "      <td>1332</td>\n",
              "      <td>729</td>\n",
              "      <td>127</td>\n",
              "    </tr>\n",
              "    <tr>\n",
              "      <th>Data Analysis / Statistics</th>\n",
              "      <td>1688</td>\n",
              "      <td>444</td>\n",
              "      <td>60</td>\n",
              "    </tr>\n",
              "    <tr>\n",
              "      <th>Data Journalism</th>\n",
              "      <td>429</td>\n",
              "      <td>1081</td>\n",
              "      <td>610</td>\n",
              "    </tr>\n",
              "    <tr>\n",
              "      <th>Data Visualization</th>\n",
              "      <td>1340</td>\n",
              "      <td>734</td>\n",
              "      <td>102</td>\n",
              "    </tr>\n",
              "    <tr>\n",
              "      <th>Deep Learning</th>\n",
              "      <td>1263</td>\n",
              "      <td>770</td>\n",
              "      <td>136</td>\n",
              "    </tr>\n",
              "  </tbody>\n",
              "</table>\n",
              "</div>"
            ],
            "text/plain": [
              "                            Very interested  ...  Not interested\n",
              "Big Data (Spark / Hadoop)              1332  ...             127\n",
              "Data Analysis / Statistics             1688  ...              60\n",
              "Data Journalism                         429  ...             610\n",
              "Data Visualization                     1340  ...             102\n",
              "Deep Learning                          1263  ...             136\n",
              "\n",
              "[5 rows x 3 columns]"
            ]
          },
          "metadata": {
            "tags": []
          },
          "execution_count": 83
        }
      ]
    },
    {
      "cell_type": "code",
      "metadata": {
        "id": "VGVIkoVPXi1r"
      },
      "source": [
        "# Sort the dataframe in descending order of Very interested\n",
        "df.sort_values(by='Very interested', ascending=False, inplace=True)"
      ],
      "execution_count": null,
      "outputs": []
    },
    {
      "cell_type": "code",
      "metadata": {
        "id": "57Nm4_iSXjxs",
        "outputId": "f6dfeb2e-1788-4eeb-a257-a1ee13a246a5",
        "colab": {
          "base_uri": "https://localhost:8080/",
          "height": 225
        }
      },
      "source": [
        "#Convert the numbers into percentages of the total number of respondents. \n",
        "#Recall that 2,233 respondents completed the survey. Round percentages to 2 decimal places.\n",
        "df = df.astype(float)\n",
        "df = (df/2233).round(2)\n",
        "df"
      ],
      "execution_count": null,
      "outputs": [
        {
          "output_type": "execute_result",
          "data": {
            "text/html": [
              "<div>\n",
              "<style scoped>\n",
              "    .dataframe tbody tr th:only-of-type {\n",
              "        vertical-align: middle;\n",
              "    }\n",
              "\n",
              "    .dataframe tbody tr th {\n",
              "        vertical-align: top;\n",
              "    }\n",
              "\n",
              "    .dataframe thead th {\n",
              "        text-align: right;\n",
              "    }\n",
              "</style>\n",
              "<table border=\"1\" class=\"dataframe\">\n",
              "  <thead>\n",
              "    <tr style=\"text-align: right;\">\n",
              "      <th></th>\n",
              "      <th>Very interested</th>\n",
              "      <th>Somewhat interested</th>\n",
              "      <th>Not interested</th>\n",
              "    </tr>\n",
              "  </thead>\n",
              "  <tbody>\n",
              "    <tr>\n",
              "      <th>Data Analysis / Statistics</th>\n",
              "      <td>0.76</td>\n",
              "      <td>0.20</td>\n",
              "      <td>0.03</td>\n",
              "    </tr>\n",
              "    <tr>\n",
              "      <th>Machine Learning</th>\n",
              "      <td>0.73</td>\n",
              "      <td>0.21</td>\n",
              "      <td>0.03</td>\n",
              "    </tr>\n",
              "    <tr>\n",
              "      <th>Data Visualization</th>\n",
              "      <td>0.60</td>\n",
              "      <td>0.33</td>\n",
              "      <td>0.05</td>\n",
              "    </tr>\n",
              "    <tr>\n",
              "      <th>Big Data (Spark / Hadoop)</th>\n",
              "      <td>0.60</td>\n",
              "      <td>0.33</td>\n",
              "      <td>0.06</td>\n",
              "    </tr>\n",
              "    <tr>\n",
              "      <th>Deep Learning</th>\n",
              "      <td>0.57</td>\n",
              "      <td>0.34</td>\n",
              "      <td>0.06</td>\n",
              "    </tr>\n",
              "    <tr>\n",
              "      <th>Data Journalism</th>\n",
              "      <td>0.19</td>\n",
              "      <td>0.48</td>\n",
              "      <td>0.27</td>\n",
              "    </tr>\n",
              "  </tbody>\n",
              "</table>\n",
              "</div>"
            ],
            "text/plain": [
              "                            Very interested  ...  Not interested\n",
              "Data Analysis / Statistics             0.76  ...            0.03\n",
              "Machine Learning                       0.73  ...            0.03\n",
              "Data Visualization                     0.60  ...            0.05\n",
              "Big Data (Spark / Hadoop)              0.60  ...            0.06\n",
              "Deep Learning                          0.57  ...            0.06\n",
              "Data Journalism                        0.19  ...            0.27\n",
              "\n",
              "[6 rows x 3 columns]"
            ]
          },
          "metadata": {
            "tags": []
          },
          "execution_count": 85
        }
      ]
    },
    {
      "cell_type": "code",
      "metadata": {
        "id": "nN9AqmAIZYgh",
        "outputId": "927df971-5c87-4aa4-98b3-6db4cbf608dc",
        "colab": {
          "base_uri": "https://localhost:8080/",
          "height": 610
        }
      },
      "source": [
        "#use a figure size of (20, 8),\n",
        "#bar width of 0.8,\n",
        "#use color #855cbc for the Very interested bars, color #5bc0de for the Somewhat interested bars, and color #d9534f for the Not interested bars,\n",
        "#use font size 14 for the bar labels, percentages, and legend,\n",
        "#use font size 16 for the title, and,\n",
        "#display the percentages above the bars as shown above, and remove the left, top, and right borders\n",
        "\n",
        "color_list = ['#5cb85c', '#5bc0de', '#d9534f']\n",
        "\n",
        "ax = df.plot(kind='bar',\n",
        "             figsize=(20,8),\n",
        "             width=0.8,\n",
        "             color = color_list,\n",
        "             )\n",
        "\n",
        "\n",
        "ax.legend(labels=df.columns, fontsize=14,loc='upper right')\n",
        "ax.set_title('Percentage of Respondents Interest in Data Science Areas', fontsize=16)\n",
        "plt.gca().spines['right'].set_color('none')\n",
        "plt.gca().spines['top'].set_color('none')\n",
        "plt.gca().spines['left'].set_color('none')\n",
        "plt.yticks([])\n",
        "\n",
        "for p in ax.patches:\n",
        "    width = p.get_width()\n",
        "    height = p.get_height()\n",
        "    x, y = p.get_xy() \n",
        "    ax.annotate(f'{height:.0%}', (x + width/2, y + height*1.02), ha='center')\n",
        "\n"
      ],
      "execution_count": null,
      "outputs": [
        {
          "output_type": "display_data",
          "data": {
            "image/png": "[encoded data removed]",
            "text/plain": [
              "<Figure size 1440x576 with 1 Axes>"
            ]
          },
          "metadata": {
            "tags": [],
            "needs_background": "light"
          }
        }
      ]
    },
    {
      "cell_type": "code",
      "metadata": {
        "id": "8JqJlUzXnVN-"
      },
      "source": [
        ""
      ],
      "execution_count": null,
      "outputs": []
    }
  ]
}